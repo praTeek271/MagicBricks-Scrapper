{
 "cells": [
  {
   "cell_type": "code",
   "execution_count": 11,
   "metadata": {},
   "outputs": [],
   "source": [
    "# !pip install selenium beautifulsoup4\n",
    "# !pip install pandas numpy matplotlib\n",
    "url = \"https://www.magicbricks.com/property-for-sale/residential-real-estate?bedroom=&proptype=Multistorey-Apartment,Builder-Floor-Apartment,Penthouse,Studio-Apartment&cityName=Pune\""
   ]
  },
  {
   "cell_type": "code",
   "execution_count": 12,
   "metadata": {},
   "outputs": [],
   "source": [
    "# import libraries\n",
    "\n",
    "from selenium import webdriver\n",
    "from selenium.webdriver.common.by import By\n",
    "from bs4 import BeautifulSoup\n",
    "import time\n",
    "from selenium.webdriver.common.keys import Keys\n",
    "from selenium.webdriver.support.ui import WebDriverWait\n",
    "from selenium.webdriver.support import expected_conditions as EC"
   ]
  },
  {
   "cell_type": "code",
   "execution_count": 13,
   "metadata": {},
   "outputs": [],
   "source": [
    "def scroll_and_wait(driver, timeout=10):\n",
    "    try:\n",
    "        # Scroll down to the bottom of the page\n",
    "        driver.execute_script(\"window.scrollTo(0, document.body.scrollHeight);\")\n",
    "\n",
    "        # Wait for the new content to load\n",
    "        WebDriverWait(driver, timeout).until(EC.presence_of_element_located((By.CLASS_NAME, 'mb-srp__list')))\n",
    "    except Exception as e:\n",
    "        print(\"Scrolling and waiting failed: {}\".format(e))\n"
   ]
  },
  {
   "cell_type": "code",
   "execution_count": 14,
   "metadata": {},
   "outputs": [],
   "source": [
    "import re\n",
    "\n",
    "def extract_bhk(description):\n",
    "    # Regular expression to find Bhk information\n",
    "    bhk_pattern = re.compile(r'(\\d+)\\s*BHK', re.IGNORECASE)\n",
    "\n",
    "    # Searching for Bhk information in the description\n",
    "    match = bhk_pattern.search(description)\n",
    "\n",
    "    if match:\n",
    "        return int(match.group(1))\n",
    "    else:\n",
    "        \n",
    "        return None"
   ]
  },
  {
   "cell_type": "code",
   "execution_count": 15,
   "metadata": {},
   "outputs": [],
   "source": [
    "def extract_values_from_html(data):\n",
    "    super_area = None\n",
    "    floor = None\n",
    "    total_floors = None\n",
    "    bathrooms = None\n",
    "\n",
    "    # Find all items with the specified class\n",
    "    summary_items = data.find_all('div', class_='mb-srp__card__summary__list--item')\n",
    "\n",
    "    for item in summary_items:\n",
    "        label = item.find('div', class_='mb-srp__card__summary--label')\n",
    "        value = item.find('div', class_='mb-srp__card__summary--value')\n",
    "\n",
    "        if label and value:\n",
    "            label_text = label.text.strip().lower()\n",
    "            value_text = value.text.strip()\n",
    "\n",
    "            if 'super area' in label_text:\n",
    "                super_area = int(value_text.split(' ')[0])\n",
    "            elif 'floor' in label_text:\n",
    "                floor_data = value_text.split(' out of ')\n",
    "                floor = floor_data[0].strip()\n",
    "                total_floors = int(floor_data[1].strip())\n",
    "            elif 'bathroom' in label_text:\n",
    "                bathrooms = int(value_text)\n",
    "\n",
    "    return super_area, floor, total_floors, bathrooms\n"
   ]
  },
  {
   "cell_type": "code",
   "execution_count": 16,
   "metadata": {},
   "outputs": [
    {
     "name": "stdout",
     "output_type": "stream",
     "text": [
      "------------Data written successfully!------------\n",
      "\n"
     ]
    }
   ],
   "source": [
    "import csv\n",
    "\n",
    "def save_to_csv(data=[\"null\"]*7, filename='output.csv'):\n",
    "    try:\n",
    "        with open(filename, mode='a', newline='', encoding='utf-8') as file:\n",
    "            writer = csv.writer(file)\n",
    "\n",
    "            # Check if the file is empty, if so, write the header\n",
    "            if file.tell() == 0:\n",
    "                header = ['Property_Title', 'Price', 'Rate', 'Bhk', 'Super_area' , 'Floor' , 'Total_floor' ]\n",
    "                writer.writerow(header)\n",
    "\n",
    "            writer.writerow(data)\n",
    "        print(f\"Data written successfully!\".center(50, '-') + \"\\n\")\n",
    "    except Exception as e:\n",
    "        print(f\"Error writing to CSV: {e}\")\n",
    "\n",
    "save_to_csv()\n"
   ]
  },
  {
   "cell_type": "code",
   "execution_count": 17,
   "metadata": {},
   "outputs": [],
   "source": [
    "def extraction(property_divs):\n",
    "    try:\n",
    "        c=1\n",
    "        for property_div in property_divs:\n",
    "            try: #extracting required data from each div class\" property_div\"\n",
    "                print(f\"{c}/{len(property_divs)}\")\n",
    "                property_title = property_div.find('h2', class_='mb-srp__card--title').text.strip()\n",
    "                property_price = property_div.find('div', class_='mb-srp__card__price--amount').text.strip()\n",
    "                property_rate = property_div.find('div', class_='mb-srp__card__price--size').text.strip()\n",
    "                property_rate = property_rate.split(' ')[0]\n",
    "                property_description = property_div.find('p', class_='two-line-truncated').text.strip()\n",
    "                # property_bhk = extract_bhk(property_description) \n",
    "                super_area, floor, total_floors, bathrooms = extract_values_from_html(property_div)\n",
    "                # if property_bhk==None:    \n",
    "                #     property_bhk = \"0\"                \n",
    "                print(\"\\n\" + \"-\"*50 + \"\\n\")\n",
    "                print(\"Property Title:\", property_title)\n",
    "                print(\"Price:  Rs {0}\".format(property_price).strip().center(50, '-'))\n",
    "                # print(\"BHK: {0}\".format(property_bhk).strip().center(50, ''))\n",
    "                \n",
    "                # print(\"Description:\", property_description)\n",
    "                print(\"\\n\" + \"-\"*50 + \"\\n\")\n",
    "                save_to_csv(property_title, property_price, property_rate, 1, super_area, floor, total_floors)\n",
    "                \n",
    "            except Exception as e:\n",
    "                print(\"\\n\".center(50, '--==--'))\n",
    "                print(\"Extraction failed \".center(50, '-'))\n",
    "                print(e, \"\\n\")\n",
    "                print(\"\\n\".center(50, '--==--'))\n",
    "            finally:\n",
    "                c+=1\n",
    "                pass\n",
    "    except Exception as e:\n",
    "        print(\"Caused by {e}\".format(e=e).strip().center(50, '-'))\n",
    "        pass\n",
    "    finally:\n",
    "        driver.quit()\n"
   ]
  },
  {
   "cell_type": "code",
   "execution_count": 18,
   "metadata": {},
   "outputs": [
    {
     "name": "stdout",
     "output_type": "stream",
     "text": [
      "1/30\n",
      "\n",
      "--------------------------------------------------\n",
      "\n",
      "Property Title: 2 BHK Flat for Sale in Chandrakamal, Shukrawar Peth, Pune\n",
      "---------------Price:  Rs ₹1.65 Cr----------------\n",
      "\n",
      "--------------------------------------------------\n",
      "\n",
      "Caused by The fill character must be exactly one character long\n"
     ]
    }
   ],
   "source": [
    "driver = webdriver.Chrome()\n",
    "driver.get(url)\n",
    "\n",
    "page_source = driver.page_source\n",
    "soup = BeautifulSoup(page_source, 'html.parser')\n",
    "property_divs = soup.find_all('div', class_='mb-srp__list')\n",
    "extraction(property_divs)\n",
    "# Wait for the new content to load\n",
    "while True or len(property_divs)!= 250:\n",
    "    time.sleep(5)\n",
    "    scroll_and_wait(driver)\n",
    "    page_source = driver.page_source\n",
    "    soup = BeautifulSoup(page_source, 'html.parser')\n",
    "    property_divs = soup.find_all('div', class_='mb-srp__list')\n",
    "    extraction(property_divs)\n",
    "    print(len(property_divs))"
   ]
  },
  {
   "cell_type": "code",
   "execution_count": null,
   "metadata": {},
   "outputs": [],
   "source": []
  }
 ],
 "metadata": {
  "kernelspec": {
   "display_name": "env",
   "language": "python",
   "name": "python3"
  },
  "language_info": {
   "codemirror_mode": {
    "name": "ipython",
    "version": 3
   },
   "file_extension": ".py",
   "mimetype": "text/x-python",
   "name": "python",
   "nbconvert_exporter": "python",
   "pygments_lexer": "ipython3",
   "version": "3.12.1"
  }
 },
 "nbformat": 4,
 "nbformat_minor": 2
}
